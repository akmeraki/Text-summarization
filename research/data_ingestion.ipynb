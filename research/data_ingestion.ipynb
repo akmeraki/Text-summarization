{
 "cells": [
  {
   "cell_type": "code",
   "execution_count": 1,
   "metadata": {},
   "outputs": [
    {
     "data": {
      "text/plain": [
       "'c:\\\\Users\\\\akg96\\\\Desktop\\\\Github\\\\Text-summarization\\\\research'"
      ]
     },
     "execution_count": 1,
     "metadata": {},
     "output_type": "execute_result"
    }
   ],
   "source": [
    "import os \n",
    "%pwd"
   ]
  },
  {
   "cell_type": "code",
   "execution_count": 2,
   "metadata": {},
   "outputs": [
    {
     "data": {
      "text/plain": [
       "'c:\\\\Users\\\\akg96\\\\Desktop\\\\Github\\\\Text-summarization\\\\research'"
      ]
     },
     "execution_count": 2,
     "metadata": {},
     "output_type": "execute_result"
    }
   ],
   "source": [
    "%pwd"
   ]
  },
  {
   "cell_type": "code",
   "execution_count": 3,
   "metadata": {},
   "outputs": [
    {
     "name": "stdout",
     "output_type": "stream",
     "text": [
      " Volume in drive C is Windows\n",
      " Volume Serial Number is BCAC-3A53\n",
      "\n",
      " Directory of c:\\Users\\akg96\\Desktop\\Github\\Text-summarization\\research\n",
      "\n",
      "09/18/2023  07:11 AM    <DIR>          .\n",
      "09/18/2023  07:36 AM    <DIR>          ..\n",
      "09/18/2023  07:41 AM             6,242 data_ingestion.ipynb\n",
      "09/18/2023  07:14 AM             1,812 g_down.ipynb\n",
      "09/16/2023  10:34 AM    <DIR>          logs\n",
      "05/09/2023  02:13 AM           530,165 samsum-test.csv\n",
      "05/09/2023  02:13 AM         9,401,418 samsum-train.csv\n",
      "05/09/2023  02:13 AM           512,131 samsum-validation.csv\n",
      "09/18/2023  01:39 AM    <DIR>          samsum_dataset\n",
      "09/18/2023  07:11 AM         7,903,594 summarizer-data.zip\n",
      "09/13/2023  03:44 AM           203,832 Text_Summarizer_Pegasus.ipynb\n",
      "09/11/2023  09:54 AM             1,967 trials.ipynb\n",
      "               8 File(s)     18,561,161 bytes\n",
      "               4 Dir(s)  125,223,944,192 bytes free\n"
     ]
    }
   ],
   "source": [
    "!dir"
   ]
  },
  {
   "cell_type": "code",
   "execution_count": 4,
   "metadata": {},
   "outputs": [],
   "source": [
    "os.chdir(\"../\")"
   ]
  },
  {
   "cell_type": "code",
   "execution_count": 5,
   "metadata": {},
   "outputs": [
    {
     "data": {
      "text/plain": [
       "'c:\\\\Users\\\\akg96\\\\Desktop\\\\Github\\\\Text-summarization'"
      ]
     },
     "execution_count": 5,
     "metadata": {},
     "output_type": "execute_result"
    }
   ],
   "source": [
    "%pwd"
   ]
  },
  {
   "cell_type": "code",
   "execution_count": 6,
   "metadata": {},
   "outputs": [],
   "source": [
    "# Entity \n",
    "from dataclasses import dataclass\n",
    "from pathlib import Path\n",
    "\n",
    "\n",
    "@dataclass(frozen=True)\n",
    "class DataIngestionConfig:\n",
    "    root_dir : Path\n",
    "    source_URL : str\n",
    "    local_data_file: Path\n",
    "    unzip_dir : Path\n"
   ]
  },
  {
   "cell_type": "code",
   "execution_count": 7,
   "metadata": {},
   "outputs": [],
   "source": [
    "from textSummarizer.constants import *\n",
    "from textSummarizer.utils.common import read_yaml, create_directories\n"
   ]
  },
  {
   "cell_type": "code",
   "execution_count": 8,
   "metadata": {},
   "outputs": [],
   "source": [
    "class ConfigurationManager:\n",
    "    def __init__(\n",
    "            self,\n",
    "            config_filepath = CONFIG_FILE_PATH,\n",
    "            params_filepath = PARAMS_FILE_PATH):\n",
    "        \n",
    "        self.config = read_yaml(config_filepath)\n",
    "        self.params = read_yaml(params_filepath)\n",
    "\n",
    "        create_directories([self.config.artifacts_root])\n",
    "\n",
    "    def get_data_ingestion_config(self) -> DataIngestionConfig:\n",
    "\n",
    "        config = self.config.data_ingestion\n",
    "\n",
    "        create_directories([config.root_dir])\n",
    "\n",
    "        data_ingestion_config = DataIngestionConfig(\n",
    "            root_dir=config.root_dir,\n",
    "            source_URL= config.source_URL,\n",
    "            local_data_file= config.local_data_file,\n",
    "            unzip_dir = config.unzip_dir \n",
    "        )\n",
    "\n",
    "        return data_ingestion_config\n"
   ]
  },
  {
   "cell_type": "code",
   "execution_count": 9,
   "metadata": {},
   "outputs": [],
   "source": [
    "#!pip install gdown#"
   ]
  },
  {
   "cell_type": "code",
   "execution_count": 10,
   "metadata": {},
   "outputs": [],
   "source": [
    "import os \n",
    "import urllib.request as request\n",
    "import gdown\n",
    "import zipfile\n",
    "from textSummarizer.logging import logger\n",
    "from textSummarizer.utils.common import get_size"
   ]
  },
  {
   "cell_type": "code",
   "execution_count": 11,
   "metadata": {},
   "outputs": [],
   "source": [
    "class DataIngestion:\n",
    "    def __init__(self, config:DataIngestionConfig):\n",
    "        self.config = config\n",
    "\n",
    "    def download_file(self):\n",
    "\n",
    "        if not os.path.exists(self.config.local_data_file):\n",
    "\n",
    "            filename, headers = request.urlretrieve(\n",
    "            url = self.config.source_URL,\n",
    "            filename= self.config.local_data_file\n",
    "            )\n",
    "\n",
    "            logger.info(f\"{filename} download! with following info: \\n {headers}\")\n",
    "\n",
    "        else:\n",
    "            logger.info(f\"file already exists of size: {get_size(Path(self.config.local_data_file))}\")\n",
    "\n",
    "\n",
    "    def google_drive_down(self):\n",
    "        \n",
    "        if not os.path.exists(self.config.local_data_file):\n",
    "\n",
    "            prefix = 'https://drive.google.com/uc?/export=download&id='\n",
    "\n",
    "            url = self.config.source_URL\n",
    "            output = self.config.local_data_file\n",
    "            \n",
    "            file_id = url.split('/')[-2]\n",
    "\n",
    "            gdown.download(prefix+file_id, output)\n",
    "\n",
    "            logger.info(f\"{output} download! with following info: \\n\")\n",
    "\n",
    "        else:\n",
    "            logger.info(f\"file already exists of size: {get_size(Path(self.config.local_data_file))}\")\n",
    "\n",
    "        \n",
    "\n",
    "\n",
    "    def extract_zip_file(self):\n",
    "\n",
    "        \"\"\"\n",
    "        zip_file_path:str \n",
    "        Extracts the zip file into the data directory\n",
    "        Function returns None \n",
    "        \"\"\"\n",
    "\n",
    "        unzip_path = self.config.unzip_dir\n",
    "        os.makedirs(unzip_path, exist_ok=True)\n",
    "\n",
    "        with zipfile.ZipFile(self.config.local_data_file, 'r') as zip_ref:\n",
    "            zip_ref.extractall(unzip_path)\n",
    "        "
   ]
  },
  {
   "cell_type": "code",
   "execution_count": 12,
   "metadata": {},
   "outputs": [
    {
     "name": "stdout",
     "output_type": "stream",
     "text": [
      "<_io.TextIOWrapper name='config\\\\config.yaml' mode='r' encoding='UTF-8'>\n",
      "{'artifacts_root': 'artifacts', 'data ingestion': {'root_dir': 'artifacts/data_ingestion', 'source_URL': 'url = \"https://drive.google.com/file/d/15SQdQy-TkE4A68e-hLX_4WOtzsOU7dMw/view?usp=sharing\"', 'local_data_file': 'artifacts/data_ingestion/data.zip', 'unzip_dir': 'artifacts/data_ingestion'}}\n",
      "[2023-09-18 07:41:26,159: INFO: common: yaml file: config\\config.yaml loaded successfully]\n",
      "<_io.TextIOWrapper name='params.yaml' mode='r' encoding='UTF-8'>\n",
      "{'key1': 'value1', 'key2': 'value2'}\n",
      "[2023-09-18 07:41:26,167: INFO: common: yaml file: params.yaml loaded successfully]\n",
      "[2023-09-18 07:41:26,167: INFO: common: created directory at: artifacts]\n",
      "[2023-09-18 07:41:26,179: INFO: common: created directory at: artifacts/data_ingestion]\n"
     ]
    },
    {
     "name": "stderr",
     "output_type": "stream",
     "text": [
      "Downloading...\n",
      "From: https://drive.google.com/uc?/export=download&id=15SQdQy-TkE4A68e-hLX_4WOtzsOU7dMw\n",
      "To: c:\\Users\\akg96\\Desktop\\Github\\Text-summarization\\artifacts\\data_ingestion\\data.zip\n",
      "100%|██████████| 7.90M/7.90M [00:01<00:00, 3.97MB/s]"
     ]
    },
    {
     "name": "stdout",
     "output_type": "stream",
     "text": [
      "[2023-09-18 07:41:42,851: INFO: 2834993816: artifacts/data_ingestion/data.zip download! with following info: \n",
      "]\n"
     ]
    },
    {
     "name": "stderr",
     "output_type": "stream",
     "text": [
      "\n"
     ]
    }
   ],
   "source": [
    "try: \n",
    "    config = ConfigurationManager()\n",
    "    data_ingestion_config = config.get_data_ingestion_config()\n",
    "    data_ingestion = DataIngestion(config=data_ingestion_config)\n",
    "    data_ingestion.google_drive_down()\n",
    "    data_ingestion.extract_zip_file()\n",
    "\n",
    "except Exception as e:\n",
    "    raise e"
   ]
  }
 ],
 "metadata": {
  "kernelspec": {
   "display_name": "Text-Summarizer",
   "language": "python",
   "name": "python3"
  },
  "language_info": {
   "codemirror_mode": {
    "name": "ipython",
    "version": 3
   },
   "file_extension": ".py",
   "mimetype": "text/x-python",
   "name": "python",
   "nbconvert_exporter": "python",
   "pygments_lexer": "ipython3",
   "version": "3.8.17"
  },
  "orig_nbformat": 4
 },
 "nbformat": 4,
 "nbformat_minor": 2
}
